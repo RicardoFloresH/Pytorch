{
 "cells": [
  {
   "cell_type": "markdown",
   "id": "efbc07b2",
   "metadata": {},
   "source": [
    "# Pytorch math functions \n",
    "Ricardo Flores"
   ]
  },
  {
   "cell_type": "code",
   "execution_count": 1,
   "id": "a0ffbe99",
   "metadata": {},
   "outputs": [],
   "source": [
    "import torch "
   ]
  },
  {
   "cell_type": "markdown",
   "id": "8c86755c",
   "metadata": {},
   "source": [
    "## Reduction "
   ]
  },
  {
   "cell_type": "code",
   "execution_count": 2,
   "id": "f329b600",
   "metadata": {},
   "outputs": [],
   "source": [
    "xt = torch.randn(100)  # normal, 0 mean, 1 std"
   ]
  },
  {
   "cell_type": "code",
   "execution_count": 3,
   "id": "ecaa294c",
   "metadata": {},
   "outputs": [
    {
     "data": {
      "text/plain": [
       "tensor(-0.1798)"
      ]
     },
     "execution_count": 3,
     "metadata": {},
     "output_type": "execute_result"
    }
   ],
   "source": [
    "# Mean\n",
    "xt.mean()"
   ]
  },
  {
   "cell_type": "code",
   "execution_count": 4,
   "id": "46fed4c7",
   "metadata": {},
   "outputs": [
    {
     "data": {
      "text/plain": [
       "tensor(0.9353)"
      ]
     },
     "execution_count": 4,
     "metadata": {},
     "output_type": "execute_result"
    }
   ],
   "source": [
    "# Standard deviation\n",
    "xt.std()"
   ]
  },
  {
   "cell_type": "markdown",
   "id": "ccc03a70",
   "metadata": {},
   "source": [
    "## Comparison"
   ]
  },
  {
   "cell_type": "code",
   "execution_count": 5,
   "id": "c3942453",
   "metadata": {},
   "outputs": [
    {
     "data": {
      "text/plain": [
       "True"
      ]
     },
     "execution_count": 5,
     "metadata": {},
     "output_type": "execute_result"
    }
   ],
   "source": [
    "# Equal: True if two tensors have the same size and elements, False otherwise.\n",
    "torch.equal(torch.tensor([9, 2]), torch.tensor([9, 2]))"
   ]
  },
  {
   "cell_type": "code",
   "execution_count": 6,
   "id": "c9fcbd92",
   "metadata": {},
   "outputs": [
    {
     "data": {
      "text/plain": [
       "tensor(5)"
      ]
     },
     "execution_count": 6,
     "metadata": {},
     "output_type": "execute_result"
    }
   ],
   "source": [
    "# Max\n",
    "torch.max(torch.tensor([1, 2, 3, 4, 5]))"
   ]
  },
  {
   "cell_type": "code",
   "execution_count": 7,
   "id": "10a271a0",
   "metadata": {},
   "outputs": [
    {
     "data": {
      "text/plain": [
       "tensor(1)"
      ]
     },
     "execution_count": 7,
     "metadata": {},
     "output_type": "execute_result"
    }
   ],
   "source": [
    "# Min\n",
    "torch.min(torch.tensor([1, 2, 3, 4, 5]))"
   ]
  },
  {
   "cell_type": "markdown",
   "id": "f34c05ef",
   "metadata": {},
   "source": [
    "## Serialization "
   ]
  },
  {
   "cell_type": "code",
   "execution_count": 8,
   "id": "8708406c",
   "metadata": {},
   "outputs": [],
   "source": [
    "# save \n",
    "xt = torch.tensor([1, 2, 3, 4, 5])\n",
    "torch.save(xt, 'data/xt.pt')"
   ]
  },
  {
   "cell_type": "code",
   "execution_count": 9,
   "id": "67e50e3d",
   "metadata": {},
   "outputs": [
    {
     "data": {
      "text/plain": [
       "tensor([1, 2, 3, 4, 5])"
      ]
     },
     "execution_count": 9,
     "metadata": {},
     "output_type": "execute_result"
    }
   ],
   "source": [
    "# load\n",
    "torch.load('data/xt.pt')"
   ]
  },
  {
   "cell_type": "markdown",
   "id": "44f84809",
   "metadata": {},
   "source": [
    "## Pointwise"
   ]
  },
  {
   "cell_type": "code",
   "execution_count": 10,
   "id": "c9465ad7",
   "metadata": {},
   "outputs": [
    {
     "data": {
      "text/plain": [
       "tensor([1, 3])"
      ]
     },
     "execution_count": 10,
     "metadata": {},
     "output_type": "execute_result"
    }
   ],
   "source": [
    "# abs: absolute value of each element\n",
    "torch.abs(torch.tensor([1, -3]))"
   ]
  },
  {
   "cell_type": "code",
   "execution_count": 11,
   "id": "c34db44c",
   "metadata": {},
   "outputs": [
    {
     "data": {
      "text/plain": [
       "tensor([1, 4, 9])"
      ]
     },
     "execution_count": 11,
     "metadata": {},
     "output_type": "execute_result"
    }
   ],
   "source": [
    "# pow: the power of each element\n",
    "xt = torch.tensor([1, 2, 3])\n",
    "torch.pow(xt, 2)"
   ]
  },
  {
   "cell_type": "code",
   "execution_count": 12,
   "id": "252a01e3",
   "metadata": {},
   "outputs": [
    {
     "data": {
      "text/plain": [
       "tensor([ 1,  2, 27])"
      ]
     },
     "execution_count": 12,
     "metadata": {},
     "output_type": "execute_result"
    }
   ],
   "source": [
    "torch.pow(xt, torch.tensor([2, 1, 3]))"
   ]
  },
  {
   "cell_type": "code",
   "execution_count": 13,
   "id": "031400f2",
   "metadata": {},
   "outputs": [
    {
     "data": {
      "text/plain": [
       "tensor([2.7183, 7.3891])"
      ]
     },
     "execution_count": 13,
     "metadata": {},
     "output_type": "execute_result"
    }
   ],
   "source": [
    "# exp and log: exponential and natural logarithm\n",
    "xt = torch.tensor([1, 2])\n",
    "torch.exp(xt)"
   ]
  },
  {
   "cell_type": "code",
   "execution_count": 14,
   "id": "4f13de16",
   "metadata": {},
   "outputs": [
    {
     "data": {
      "text/plain": [
       "tensor([0.0000, 0.6931])"
      ]
     },
     "execution_count": 14,
     "metadata": {},
     "output_type": "execute_result"
    }
   ],
   "source": [
    "torch.log(xt)"
   ]
  },
  {
   "cell_type": "code",
   "execution_count": 15,
   "id": "24094dce",
   "metadata": {},
   "outputs": [
    {
     "data": {
      "text/plain": [
       "tensor([1., 2.])"
      ]
     },
     "execution_count": 15,
     "metadata": {},
     "output_type": "execute_result"
    }
   ],
   "source": [
    "torch.exp(torch.log(xt))"
   ]
  },
  {
   "cell_type": "code",
   "execution_count": 16,
   "id": "4e82ca3c",
   "metadata": {},
   "outputs": [
    {
     "data": {
      "text/plain": [
       "tensor([-0.5537,  0.6359,  0.7939])"
      ]
     },
     "execution_count": 16,
     "metadata": {},
     "output_type": "execute_result"
    }
   ],
   "source": [
    "# floor: retrn a new tensor with the floor of an element \n",
    "xt =  torch.randn(3)\n",
    "xt"
   ]
  },
  {
   "cell_type": "code",
   "execution_count": 17,
   "id": "25e9e73d",
   "metadata": {},
   "outputs": [
    {
     "data": {
      "text/plain": [
       "tensor([-1.,  0.,  0.])"
      ]
     },
     "execution_count": 17,
     "metadata": {},
     "output_type": "execute_result"
    }
   ],
   "source": [
    "torch.floor(xt)"
   ]
  },
  {
   "cell_type": "code",
   "execution_count": 18,
   "id": "ab9afaf2",
   "metadata": {},
   "outputs": [
    {
     "data": {
      "text/plain": [
       "tensor([10, 20, 30])"
      ]
     },
     "execution_count": 18,
     "metadata": {},
     "output_type": "execute_result"
    }
   ],
   "source": [
    "# mul: multiplies inpput by other\n",
    "xt = torch.tensor([1, 2, 3])\n",
    "torch.mul(xt, 10)"
   ]
  },
  {
   "cell_type": "code",
   "execution_count": 19,
   "id": "4a216a76",
   "metadata": {},
   "outputs": [
    {
     "data": {
      "text/plain": [
       "tensor([[-0.4052,  0.4876, -0.9713],\n",
       "        [ 0.3590, -0.4320,  0.8606],\n",
       "        [ 0.6238, -0.7506,  1.4952]])"
      ]
     },
     "execution_count": 19,
     "metadata": {},
     "output_type": "execute_result"
    }
   ],
   "source": [
    "x1 = torch.randn(3, 1)\n",
    "x2 = torch.randn(1, 3)\n",
    "torch.mul(x1, x2)"
   ]
  },
  {
   "cell_type": "markdown",
   "id": "72f29489",
   "metadata": {},
   "source": [
    "## BLAS and LAPACK"
   ]
  },
  {
   "cell_type": "code",
   "execution_count": 20,
   "id": "980ae48d",
   "metadata": {},
   "outputs": [
    {
     "data": {
      "text/plain": [
       "torch.Size([5, 3, 4])"
      ]
     },
     "execution_count": 20,
     "metadata": {},
     "output_type": "execute_result"
    }
   ],
   "source": [
    "# bmm: batch matrix-matrix product of matrices stored in input and mat2\n",
    "# input and mat2 must be 3-D tensors each containing the same number of matrices.\n",
    "# If input is (b × n × m) tensor, mat2 is (b × m × p) tensor, out is (b × n × p) tensor.\n",
    "input1 = torch.randn(5, 3, 2)\n",
    "mat2 = torch.randn(5, 2, 4)\n",
    "res = torch.bmm(input1, mat2)\n",
    "res.shape"
   ]
  },
  {
   "cell_type": "code",
   "execution_count": 21,
   "id": "f7cc4cfd",
   "metadata": {},
   "outputs": [
    {
     "data": {
      "text/plain": [
       "tensor(5)"
      ]
     },
     "execution_count": 21,
     "metadata": {},
     "output_type": "execute_result"
    }
   ],
   "source": [
    "# dot: computes the dot product of two 1D tensors\n",
    "torch.dot(torch.tensor([1, 2]), torch.tensor([1, 2]))"
   ]
  },
  {
   "cell_type": "code",
   "execution_count": 22,
   "id": "f7aa905d",
   "metadata": {},
   "outputs": [
    {
     "data": {
      "text/plain": [
       "tensor([[-2.1863,  0.1614],\n",
       "        [14.7002,  1.9268]])"
      ]
     },
     "execution_count": 22,
     "metadata": {},
     "output_type": "execute_result"
    }
   ],
   "source": [
    "# linalg.inv: Computes the inverse of a square matrix if it exists\n",
    "A = torch.randn(2, 2)\n",
    "torch.linalg.inv(A)\n"
   ]
  },
  {
   "cell_type": "code",
   "execution_count": 23,
   "id": "bdbe01e2",
   "metadata": {},
   "outputs": [
    {
     "data": {
      "text/plain": [
       "tensor(-2.0369)"
      ]
     },
     "execution_count": 23,
     "metadata": {},
     "output_type": "execute_result"
    }
   ],
   "source": [
    "# linalg.det: Computes the determinant of a square matrix \n",
    "A = torch.randn(3, 3)\n",
    "torch.linalg.det(A)\n"
   ]
  },
  {
   "cell_type": "code",
   "execution_count": 24,
   "id": "f4b4c071",
   "metadata": {},
   "outputs": [
    {
     "data": {
      "text/plain": [
       "torch.Size([3])"
      ]
     },
     "execution_count": 24,
     "metadata": {},
     "output_type": "execute_result"
    }
   ],
   "source": [
    "# matmul: matrix product of two tensors, behavior depend on dimensionality of inputs\n",
    "# matrix x vector\n",
    "tensor1 = torch.randn(3, 4)\n",
    "tensor2 = torch.randn(4)\n",
    "torch.matmul(tensor1, tensor2).size()"
   ]
  },
  {
   "cell_type": "code",
   "execution_count": 25,
   "id": "fcd4f8ae",
   "metadata": {},
   "outputs": [
    {
     "data": {
      "text/plain": [
       "torch.Size([10, 3, 5])"
      ]
     },
     "execution_count": 25,
     "metadata": {},
     "output_type": "execute_result"
    }
   ],
   "source": [
    "# batched matrix x batched matrix\n",
    "tensor1 = torch.randn(10, 3, 4)\n",
    "tensor2 = torch.randn(10, 4, 5)\n",
    "torch.matmul(tensor1, tensor2).size()"
   ]
  },
  {
   "cell_type": "code",
   "execution_count": 26,
   "id": "1ff525f4",
   "metadata": {},
   "outputs": [
    {
     "data": {
      "text/plain": [
       "tensor([[0.7685, 1.9830, 0.0588]])"
      ]
     },
     "execution_count": 26,
     "metadata": {},
     "output_type": "execute_result"
    }
   ],
   "source": [
    "# mm: matrix multiplication of the matrices input and mat2, not bradcast\n",
    "mat1 = torch.randn(1, 3)\n",
    "mat2 = torch.randn(3, 3)\n",
    "torch.mm(mat1, mat2)"
   ]
  },
  {
   "cell_type": "code",
   "execution_count": 27,
   "id": "2d3f7cb8",
   "metadata": {},
   "outputs": [
    {
     "data": {
      "text/plain": [
       "tensor([ 0.6868, -1.4545])"
      ]
     },
     "execution_count": 27,
     "metadata": {},
     "output_type": "execute_result"
    }
   ],
   "source": [
    "# linalg.solve: Computes the solution of a square system of linear equations with a unique solution\n",
    "A = torch.randn(2, 2)\n",
    "b = torch.randn(2)\n",
    "torch.linalg.solve(A, b)\n"
   ]
  },
  {
   "cell_type": "code",
   "execution_count": null,
   "id": "61152d3c",
   "metadata": {},
   "outputs": [],
   "source": []
  }
 ],
 "metadata": {
  "kernelspec": {
   "display_name": "Python 3 (ipykernel)",
   "language": "python",
   "name": "python3"
  },
  "language_info": {
   "codemirror_mode": {
    "name": "ipython",
    "version": 3
   },
   "file_extension": ".py",
   "mimetype": "text/x-python",
   "name": "python",
   "nbconvert_exporter": "python",
   "pygments_lexer": "ipython3",
   "version": "3.8.11"
  }
 },
 "nbformat": 4,
 "nbformat_minor": 5
}
