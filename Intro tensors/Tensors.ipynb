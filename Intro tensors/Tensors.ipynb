{
 "cells": [
  {
   "cell_type": "markdown",
   "id": "8a4b4bd8",
   "metadata": {},
   "source": [
    "# Introduction to tensors with Pytorch \n",
    "[Ricardo Flores](https://rflores.cl/)"
   ]
  },
  {
   "cell_type": "code",
   "execution_count": 1,
   "id": "be015138",
   "metadata": {},
   "outputs": [],
   "source": [
    "import torch\n",
    "import numpy as np "
   ]
  },
  {
   "cell_type": "markdown",
   "id": "d7764d0c",
   "metadata": {},
   "source": [
    "Tensors: Multidimensional arrays"
   ]
  },
  {
   "cell_type": "markdown",
   "id": "3264d12c",
   "metadata": {},
   "source": [
    "## 1) Create tensors"
   ]
  },
  {
   "cell_type": "markdown",
   "id": "4331d39c",
   "metadata": {},
   "source": [
    "### Fom a list "
   ]
  },
  {
   "cell_type": "code",
   "execution_count": 2,
   "id": "0b4f597e",
   "metadata": {},
   "outputs": [
    {
     "data": {
      "text/plain": [
       "tensor([1, 2, 3, 4, 5])"
      ]
     },
     "execution_count": 2,
     "metadata": {},
     "output_type": "execute_result"
    }
   ],
   "source": [
    "x_list = [1, 2, 3, 4, 5]\n",
    "tensor_list = torch.tensor(x_list)\n",
    "tensor_list"
   ]
  },
  {
   "cell_type": "markdown",
   "id": "2378300b",
   "metadata": {},
   "source": [
    "### From a numpy array"
   ]
  },
  {
   "cell_type": "code",
   "execution_count": 3,
   "id": "c786d2bb",
   "metadata": {},
   "outputs": [
    {
     "data": {
      "text/plain": [
       "tensor([[1, 2],\n",
       "        [3, 4]], dtype=torch.int32)"
      ]
     },
     "execution_count": 3,
     "metadata": {},
     "output_type": "execute_result"
    }
   ],
   "source": [
    "x_array = np.array([[1, 2], [3, 4]])\n",
    "tensor_np = torch.tensor(x_array)\n",
    "tensor_np"
   ]
  },
  {
   "cell_type": "markdown",
   "id": "8db41d59",
   "metadata": {},
   "source": [
    "### From pytorch funcions"
   ]
  },
  {
   "cell_type": "code",
   "execution_count": 4,
   "id": "9b7383aa",
   "metadata": {},
   "outputs": [
    {
     "data": {
      "text/plain": [
       "tensor([[0.6788, 0.4762, 0.6212],\n",
       "        [0.6765, 0.9900, 0.5003],\n",
       "        [0.5738, 0.4602, 0.4549]])"
      ]
     },
     "execution_count": 4,
     "metadata": {},
     "output_type": "execute_result"
    }
   ],
   "source": [
    "# Random from standar normal distribution\n",
    "tensor_rand = torch.rand((3, 3))\n",
    "tensor_rand"
   ]
  },
  {
   "cell_type": "code",
   "execution_count": 5,
   "id": "092bfe87",
   "metadata": {},
   "outputs": [
    {
     "data": {
      "text/plain": [
       "tensor([[1., 1., 1.]])"
      ]
     },
     "execution_count": 5,
     "metadata": {},
     "output_type": "execute_result"
    }
   ],
   "source": [
    "# Tensors of ones\n",
    "tensor_ones = torch.ones((1, 3))\n",
    "tensor_ones"
   ]
  },
  {
   "cell_type": "code",
   "execution_count": 6,
   "id": "b4fd7224",
   "metadata": {},
   "outputs": [
    {
     "data": {
      "text/plain": [
       "tensor([[0.],\n",
       "        [0.],\n",
       "        [0.]])"
      ]
     },
     "execution_count": 6,
     "metadata": {},
     "output_type": "execute_result"
    }
   ],
   "source": [
    "# Tenzor of zeros\n",
    "tensor_zeros = torch.zeros((3, 1))\n",
    "tensor_zeros"
   ]
  },
  {
   "cell_type": "code",
   "execution_count": 7,
   "id": "bcc178b8",
   "metadata": {},
   "outputs": [
    {
     "data": {
      "text/plain": [
       "tensor([[1., 0.],\n",
       "        [0., 1.]])"
      ]
     },
     "execution_count": 7,
     "metadata": {},
     "output_type": "execute_result"
    }
   ],
   "source": [
    "# Tensor with ones on the diagonal and zeros elsewhere\n",
    "torch.eye(2)"
   ]
  },
  {
   "cell_type": "markdown",
   "id": "8f75bf06",
   "metadata": {},
   "source": [
    "## 2) Shape and reshape tensors "
   ]
  },
  {
   "cell_type": "markdown",
   "id": "01ab4405",
   "metadata": {},
   "source": [
    "### Check the shape of a tensor"
   ]
  },
  {
   "cell_type": "code",
   "execution_count": 8,
   "id": "7b0c590a",
   "metadata": {},
   "outputs": [
    {
     "data": {
      "text/plain": [
       "torch.Size([2, 2])"
      ]
     },
     "execution_count": 8,
     "metadata": {},
     "output_type": "execute_result"
    }
   ],
   "source": [
    "# using shape\n",
    "tensor_np.shape"
   ]
  },
  {
   "cell_type": "code",
   "execution_count": 9,
   "id": "841e77ae",
   "metadata": {},
   "outputs": [
    {
     "data": {
      "text/plain": [
       "torch.Size([2, 2])"
      ]
     },
     "execution_count": 9,
     "metadata": {},
     "output_type": "execute_result"
    }
   ],
   "source": [
    "# using size\n",
    "tensor_np.size()"
   ]
  },
  {
   "cell_type": "markdown",
   "id": "57475da5",
   "metadata": {},
   "source": [
    "### Reshape a tensor "
   ]
  },
  {
   "cell_type": "code",
   "execution_count": 10,
   "id": "ea83ee53",
   "metadata": {},
   "outputs": [
    {
     "data": {
      "text/plain": [
       "tensor([[1, 2, 3, 4]], dtype=torch.int32)"
      ]
     },
     "execution_count": 10,
     "metadata": {},
     "output_type": "execute_result"
    }
   ],
   "source": [
    "# using reshape\n",
    "tensor_np.reshape((1, 4))   # original [2, 2], then [1, 4]"
   ]
  },
  {
   "cell_type": "code",
   "execution_count": 11,
   "id": "7d50b82e",
   "metadata": {},
   "outputs": [
    {
     "data": {
      "text/plain": [
       "tensor([[1, 2, 3, 4]], dtype=torch.int32)"
      ]
     },
     "execution_count": 11,
     "metadata": {},
     "output_type": "execute_result"
    }
   ],
   "source": [
    "# using view\n",
    "tensor_np.view((1, 4))   # original [2, 2], then [1, 4]"
   ]
  },
  {
   "cell_type": "markdown",
   "id": "d60d1fa9",
   "metadata": {},
   "source": [
    "### Adding  or reducing dimension"
   ]
  },
  {
   "cell_type": "code",
   "execution_count": 12,
   "id": "df1f45eb",
   "metadata": {},
   "outputs": [
    {
     "data": {
      "text/plain": [
       "torch.Size([5])"
      ]
     },
     "execution_count": 12,
     "metadata": {},
     "output_type": "execute_result"
    }
   ],
   "source": [
    "tensor_list.shape"
   ]
  },
  {
   "cell_type": "code",
   "execution_count": 13,
   "id": "5fb6c9fa",
   "metadata": {},
   "outputs": [
    {
     "data": {
      "text/plain": [
       "torch.Size([1, 5])"
      ]
     },
     "execution_count": 13,
     "metadata": {},
     "output_type": "execute_result"
    }
   ],
   "source": [
    "# adding 1 dimensiont squ\n",
    "tensor_list.unsqueeze(0).shape # adding a dimention to the beginning "
   ]
  },
  {
   "cell_type": "code",
   "execution_count": 14,
   "id": "2e39a4f9",
   "metadata": {},
   "outputs": [
    {
     "data": {
      "text/plain": [
       "torch.Size([5, 1])"
      ]
     },
     "execution_count": 14,
     "metadata": {},
     "output_type": "execute_result"
    }
   ],
   "source": [
    "tensor_list.unsqueeze(-1).shape # adding a dimention to the end"
   ]
  },
  {
   "cell_type": "code",
   "execution_count": 15,
   "id": "f6c0d1e1",
   "metadata": {},
   "outputs": [
    {
     "data": {
      "text/plain": [
       "torch.Size([1, 5])"
      ]
     },
     "execution_count": 15,
     "metadata": {},
     "output_type": "execute_result"
    }
   ],
   "source": [
    "# with view\n",
    "tensor_list.view(-1, 5).shape #adding a dimention to the beginning "
   ]
  },
  {
   "cell_type": "code",
   "execution_count": 16,
   "id": "533d33b8",
   "metadata": {},
   "outputs": [
    {
     "data": {
      "text/plain": [
       "torch.Size([5, 1])"
      ]
     },
     "execution_count": 16,
     "metadata": {},
     "output_type": "execute_result"
    }
   ],
   "source": [
    "tensor_list.view(5, -1).shape # adding a dimention to the end"
   ]
  },
  {
   "cell_type": "code",
   "execution_count": 17,
   "id": "af184c20",
   "metadata": {},
   "outputs": [
    {
     "data": {
      "text/plain": [
       "torch.Size([4])"
      ]
     },
     "execution_count": 17,
     "metadata": {},
     "output_type": "execute_result"
    }
   ],
   "source": [
    "# reducing to one dimention\n",
    "tensor_np.view(-1).shape"
   ]
  },
  {
   "cell_type": "markdown",
   "id": "5899a5be",
   "metadata": {},
   "source": [
    "## 3) Type of numerical data tensor "
   ]
  },
  {
   "cell_type": "markdown",
   "id": "f8905709",
   "metadata": {},
   "source": [
    "- torch.float32 or torch.float: 32-bit floating-point\n",
    "- torch.float64 or torch.double: 64-bit, double-precision floating-point\n",
    "- torch.float16 or torch.half: 16-bit, half-precision floating-point\n",
    "- torch.int8: signed 8-bit integers\n",
    "- torch.uint8: unsigned 8-bit integers\n",
    "- torch.int16 or torch.short: signed 16-bit integers\n",
    "- torch.int32 or torch.int: signed 32-bit integers\n",
    "- torch.int64 or torch.long: signed 64-bit integers\n",
    "- torch.bool: Boolean"
   ]
  },
  {
   "cell_type": "markdown",
   "id": "751255bb",
   "metadata": {},
   "source": [
    "### Get the type of tensor"
   ]
  },
  {
   "cell_type": "code",
   "execution_count": 18,
   "id": "5270ce4b",
   "metadata": {},
   "outputs": [
    {
     "data": {
      "text/plain": [
       "torch.int64"
      ]
     },
     "execution_count": 18,
     "metadata": {},
     "output_type": "execute_result"
    }
   ],
   "source": [
    "# print the type of tensor short(int16), int(int32), long(int64), bool\n",
    "tensor_list.dtype"
   ]
  },
  {
   "cell_type": "code",
   "execution_count": 19,
   "id": "043d4761",
   "metadata": {},
   "outputs": [
    {
     "data": {
      "text/plain": [
       "torch.float32"
      ]
     },
     "execution_count": 19,
     "metadata": {},
     "output_type": "execute_result"
    }
   ],
   "source": [
    "# float(float32), double(float64), half(float16)\n",
    "tensor_rand.dtype"
   ]
  },
  {
   "cell_type": "markdown",
   "id": "e9affbe3",
   "metadata": {},
   "source": [
    "### Set new type "
   ]
  },
  {
   "cell_type": "code",
   "execution_count": 20,
   "id": "fc90fff0",
   "metadata": {},
   "outputs": [
    {
     "data": {
      "text/plain": [
       "torch.float32"
      ]
     },
     "execution_count": 20,
     "metadata": {},
     "output_type": "execute_result"
    }
   ],
   "source": [
    "# from int to float\n",
    "tensor_list.to(torch.float).dtype"
   ]
  },
  {
   "cell_type": "code",
   "execution_count": 21,
   "id": "77dd08e6",
   "metadata": {},
   "outputs": [
    {
     "data": {
      "text/plain": [
       "tensor([[1, 1, 1]], dtype=torch.int32)"
      ]
     },
     "execution_count": 21,
     "metadata": {},
     "output_type": "execute_result"
    }
   ],
   "source": [
    "# from float to int \n",
    "tensor_ones.to(torch.int)"
   ]
  },
  {
   "cell_type": "markdown",
   "id": "c44f3ba5",
   "metadata": {},
   "source": [
    "## 4) Indexing tensors"
   ]
  },
  {
   "cell_type": "code",
   "execution_count": 22,
   "id": "34b011b0",
   "metadata": {},
   "outputs": [
    {
     "data": {
      "text/plain": [
       "tensor([[0.6788, 0.4762, 0.6212],\n",
       "        [0.6765, 0.9900, 0.5003],\n",
       "        [0.5738, 0.4602, 0.4549]])"
      ]
     },
     "execution_count": 22,
     "metadata": {},
     "output_type": "execute_result"
    }
   ],
   "source": [
    "# Same indexing that numpy\n",
    "tensor_rand"
   ]
  },
  {
   "cell_type": "code",
   "execution_count": 23,
   "id": "4619df6f",
   "metadata": {},
   "outputs": [
    {
     "data": {
      "text/plain": [
       "tensor([0.6788, 0.6765, 0.5738])"
      ]
     },
     "execution_count": 23,
     "metadata": {},
     "output_type": "execute_result"
    }
   ],
   "source": [
    "# First column, all rows\n",
    "tensor_rand[:,0]\n"
   ]
  },
  {
   "cell_type": "code",
   "execution_count": 24,
   "id": "5a781ff7",
   "metadata": {},
   "outputs": [
    {
     "data": {
      "text/plain": [
       "tensor([[0.6788, 0.4762],\n",
       "        [0.6765, 0.9900],\n",
       "        [0.5738, 0.4602]])"
      ]
     },
     "execution_count": 24,
     "metadata": {},
     "output_type": "execute_result"
    }
   ],
   "source": [
    "# First two columns, all rows\n",
    "tensor_rand[:,0:2]"
   ]
  },
  {
   "cell_type": "code",
   "execution_count": 25,
   "id": "75cbdea0",
   "metadata": {},
   "outputs": [
    {
     "data": {
      "text/plain": [
       "tensor([0.5738, 0.4602, 0.4549])"
      ]
     },
     "execution_count": 25,
     "metadata": {},
     "output_type": "execute_result"
    }
   ],
   "source": [
    "# last row, all columns\n",
    "tensor_rand[-1,:]"
   ]
  },
  {
   "cell_type": "code",
   "execution_count": 26,
   "id": "9ab724ba",
   "metadata": {},
   "outputs": [
    {
     "data": {
      "text/plain": [
       "tensor(0.4549)"
      ]
     },
     "execution_count": 26,
     "metadata": {},
     "output_type": "execute_result"
    }
   ],
   "source": [
    "# last row, las column\n",
    "tensor_rand[-1,-1]"
   ]
  },
  {
   "cell_type": "code",
   "execution_count": null,
   "id": "bd38c8b3",
   "metadata": {},
   "outputs": [],
   "source": []
  }
 ],
 "metadata": {
  "kernelspec": {
   "display_name": "Python 3 (ipykernel)",
   "language": "python",
   "name": "python3"
  },
  "language_info": {
   "codemirror_mode": {
    "name": "ipython",
    "version": 3
   },
   "file_extension": ".py",
   "mimetype": "text/x-python",
   "name": "python",
   "nbconvert_exporter": "python",
   "pygments_lexer": "ipython3",
   "version": "3.8.11"
  }
 },
 "nbformat": 4,
 "nbformat_minor": 5
}
